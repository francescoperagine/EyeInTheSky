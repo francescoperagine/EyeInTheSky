{
 "cells": [
  {
   "cell_type": "code",
   "execution_count": null,
   "id": "c852aaf3",
   "metadata": {},
   "outputs": [],
   "source": [
    "# Install dependencies\n",
    "\n",
    "%pip install torch==2.6.0 torchvision==0.21.0 tqdm==4.67.1 typer==0.15.1 pyarrow==18.1.0 setuptools==75.1.0 protobuf==4.25.3 ultralytics==8.3.107 albumentations==2.0.5"
   ]
  },
  {
   "cell_type": "code",
   "execution_count": null,
   "id": "a66cd8ec",
   "metadata": {},
   "outputs": [],
   "source": [
    "# Imports\n",
    "\n",
    "from ultralytics import YOLO\n",
    "import glob\n",
    "import os\n",
    "import shutil\n",
    "import torch"
   ]
  },
  {
   "cell_type": "code",
   "execution_count": null,
   "id": "f9b3771f",
   "metadata": {},
   "outputs": [],
   "source": [
    "# Utils\n",
    "\n",
    "def get_device() -> str:\n",
    "    try:\n",
    "        return 0 if torch.cuda.is_available() else \"cpu\"\n",
    "    except Exception as e:\n",
    "        print(f\"Error setting device: {e}\")\n",
    "\n",
    "def remove_models():\n",
    "    pt_files = glob.glob(\"*.pt\")\n",
    "    print(\"Files to be removed:\", pt_files)\n",
    "\n",
    "    for file in pt_files:\n",
    "        os.remove(file)"
   ]
  },
  {
   "cell_type": "code",
   "execution_count": null,
   "id": "965811e1",
   "metadata": {},
   "outputs": [],
   "source": [
    "# Run this only once to set up the dataset cache the first time.\n",
    "\n",
    "# Downloads the VisDrone dataset and runs the first epoch to create the label.cache file with the original labels.\n",
    "# The custom dataset is later created on the fly by mapping the original labels to the new ones.\n",
    "# Without this step, the custom dataset would not be created correctly.\n",
    "\n",
    "model = YOLO(\"yolo12n.pt\")\n",
    "results = model.train(\n",
    "    data=\"VisDrone.yaml\",\n",
    "    device=get_device(),\n",
    "    batch=16,\n",
    "    workers=8,\n",
    "    imgsz=640,\n",
    "    epochs=1,\n",
    "    exist_ok=True,\n",
    "    save=False,\n",
    ")\n",
    "\n",
    "# Remove the saved data\n",
    "if results.save_dir.exists():\n",
    "    print(f\"Removing {results.save_dir}\")\n",
    "    shutil.rmtree(results.save_dir)\n",
    "            \n",
    "del model\n",
    "\n",
    "# Remove the dummy model\n",
    "remove_models()"
   ]
  }
 ],
 "metadata": {
  "kernelspec": {
   "display_name": "venv",
   "language": "python",
   "name": "python3"
  },
  "language_info": {
   "codemirror_mode": {
    "name": "ipython",
    "version": 3
   },
   "file_extension": ".py",
   "mimetype": "text/x-python",
   "name": "python",
   "nbconvert_exporter": "python",
   "pygments_lexer": "ipython3",
   "version": "3.10.0"
  }
 },
 "nbformat": 4,
 "nbformat_minor": 5
}
